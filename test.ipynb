{
 "cells": [
  {
   "cell_type": "code",
   "execution_count": 1,
   "metadata": {
    "collapsed": true
   },
   "outputs": [],
   "source": [
    "from python_twitter import Twitter\n",
    "config = {'consumer_key': 'LuehN69lyUPimz17P6PubMF1m', 'consumer_secret': 'KdWeygwWQrYogq5htbHAJHstCuI2iQredhzwGW9qd42LXxInKg',\n",
    "          'access_token': '502751658-hlkTCGwyLHAAhGfVnJNaF9LvTXOdmumBpqb3M8BZ', 'access_secret': 'NHhNcnoloVvv5GyQN0uOOBvmhzd2DCLeT8Dc2kiAIOFN9'}\n",
    "twitter = Twitter(config)"
   ]
  },
  {
   "cell_type": "code",
   "execution_count": 5,
   "metadata": {},
   "outputs": [
    {
     "name": "stdout",
     "output_type": "stream",
     "text": [
      "900\n"
     ]
    }
   ],
   "source": [
    "print(twitter.getRateLimit('users')['users']['/users/lookup']['remaining'])"
   ]
  },
  {
   "cell_type": "code",
   "execution_count": 8,
   "metadata": {},
   "outputs": [
    {
     "name": "stdout",
     "output_type": "stream",
     "text": [
      "[{'profile_background_image_url_https': 'https://abs.twimg.com/images/themes/theme1/bg.png', 'following': False, 'screen_name': 'kevinwill1991', 'default_profile': False, 'geo_enabled': False, 'has_extended_profile': False, 'profile_background_image_url': 'http://abs.twimg.com/images/themes/theme1/bg.png', 'name': 'Kevin Willemsen', 'profile_text_color': '000000', 'default_profile_image': False, 'follow_request_sent': False, 'profile_use_background_image': False, 'followers_count': 53, 'utc_offset': 3600, 'profile_image_url': 'http://pbs.twimg.com/profile_images/3224181898/2dfb10d8ea0657c24ae710e3ebdbe6ac_normal.jpeg', 'profile_sidebar_border_color': '000000', 'contributors_enabled': False, 'entities': {'description': {'urls': []}}, 'notifications': False, 'verified': False, 'is_translator': False, 'statuses_count': 103, 'friends_count': 169, 'translator_type': 'none', 'listed_count': 1, 'is_translation_enabled': False, 'profile_sidebar_fill_color': '000000', 'profile_background_tile': False, 'created_at': 'Sat Feb 25 09:28:24 +0000 2012', 'profile_image_url_https': 'https://pbs.twimg.com/profile_images/3224181898/2dfb10d8ea0657c24ae710e3ebdbe6ac_normal.jpeg', 'id': 502751658, 'protected': False, 'profile_background_color': '000000', 'favourites_count': 6, 'profile_link_color': '19CF86', 'lang': 'nl', 'time_zone': 'Amsterdam', 'url': None, 'description': 'ICT solutions innovation manager 2.0 @EMMAexperts', 'id_str': '502751658', 'status': {'in_reply_to_status_id': None, 'source': '<a href=\"http://twitter.com/download/android\" rel=\"nofollow\">Twitter for Android</a>', 'in_reply_to_user_id': None, 'text': \"RT @EMMAexperts: 'Om de #smartcity te bouwen moeten overheid, burger, stadsmakers, urbanisten en ‘technerds’ elkaar #vertrouwen'. https://t…\", 'id': 809711935180701696, 'entities': {'urls': [], 'user_mentions': [{'id': 17128474, 'name': 'EMMA', 'screen_name': 'EMMAexperts', 'id_str': '17128474', 'indices': [3, 15]}], 'hashtags': [{'indices': [24, 34], 'text': 'smartcity'}, {'indices': [116, 127], 'text': 'vertrouwen'}], 'symbols': []}, 'in_reply_to_screen_name': None, 'favorited': False, 'favorite_count': 0, 'retweeted': True, 'coordinates': None, 'is_quote_status': False, 'retweet_count': 10, 'retweeted_status': {'in_reply_to_status_id': None, 'source': '<a href=\"http://twitter.com\" rel=\"nofollow\">Twitter Web Client</a>', 'in_reply_to_user_id': None, 'text': \"'Om de #smartcity te bouwen moeten overheid, burger, stadsmakers, urbanisten en ‘technerds’ elkaar #vertrouwen'.… https://t.co/ozausjIJVU\", 'possibly_sensitive': False, 'id': 809424286830174208, 'entities': {'urls': [{'indices': [114, 137], 'url': 'https://t.co/ozausjIJVU', 'expanded_url': 'https://twitter.com/i/web/status/809424286830174208', 'display_url': 'twitter.com/i/web/status/8…'}], 'user_mentions': [], 'hashtags': [{'indices': [7, 17], 'text': 'smartcity'}, {'indices': [99, 110], 'text': 'vertrouwen'}], 'symbols': []}, 'in_reply_to_screen_name': None, 'favorited': False, 'favorite_count': 1, 'retweeted': True, 'coordinates': None, 'is_quote_status': False, 'retweet_count': 10, 'created_at': 'Thu Dec 15 15:46:03 +0000 2016', 'contributors': None, 'truncated': True, 'geo': None, 'in_reply_to_user_id_str': None, 'place': None, 'lang': 'nl', 'id_str': '809424286830174208', 'in_reply_to_status_id_str': None}, 'created_at': 'Fri Dec 16 10:49:03 +0000 2016', 'contributors': None, 'truncated': False, 'geo': None, 'in_reply_to_user_id_str': None, 'place': None, 'lang': 'nl', 'id_str': '809711935180701696', 'in_reply_to_status_id_str': None}, 'location': 'Den Haag, Nederland'}]\n"
     ]
    }
   ],
   "source": [
    "print(twitter.getUserInfo('kevinwill1991'))"
   ]
  },
  {
   "cell_type": "code",
   "execution_count": 10,
   "metadata": {},
   "outputs": [
    {
     "name": "stdout",
     "output_type": "stream",
     "text": [
      "899\n"
     ]
    }
   ],
   "source": [
    "print(twitter.getRateLimit('users')['users']['/users/lookup']['remaining'])"
   ]
  },
  {
   "cell_type": "code",
   "execution_count": 12,
   "metadata": {},
   "outputs": [
    {
     "name": "stdout",
     "output_type": "stream",
     "text": [
      "[{'profile_background_image_url_https': 'https://abs.twimg.com/images/themes/theme1/bg.png', 'following': False, 'screen_name': 'kevinwill1991', 'default_profile': False, 'geo_enabled': False, 'has_extended_profile': False, 'profile_background_image_url': 'http://abs.twimg.com/images/themes/theme1/bg.png', 'name': 'Kevin Willemsen', 'profile_text_color': '000000', 'default_profile_image': False, 'follow_request_sent': False, 'profile_use_background_image': False, 'followers_count': 53, 'utc_offset': 3600, 'profile_image_url': 'http://pbs.twimg.com/profile_images/3224181898/2dfb10d8ea0657c24ae710e3ebdbe6ac_normal.jpeg', 'profile_sidebar_border_color': '000000', 'contributors_enabled': False, 'entities': {'description': {'urls': []}}, 'notifications': False, 'verified': False, 'is_translator': False, 'statuses_count': 103, 'friends_count': 169, 'translator_type': 'none', 'listed_count': 1, 'is_translation_enabled': False, 'profile_sidebar_fill_color': '000000', 'profile_background_tile': False, 'created_at': 'Sat Feb 25 09:28:24 +0000 2012', 'profile_image_url_https': 'https://pbs.twimg.com/profile_images/3224181898/2dfb10d8ea0657c24ae710e3ebdbe6ac_normal.jpeg', 'id': 502751658, 'protected': False, 'profile_background_color': '000000', 'favourites_count': 6, 'profile_link_color': '19CF86', 'lang': 'nl', 'time_zone': 'Amsterdam', 'url': None, 'description': 'ICT solutions innovation manager 2.0 @EMMAexperts', 'id_str': '502751658', 'status': {'in_reply_to_status_id': None, 'source': '<a href=\"http://twitter.com/download/android\" rel=\"nofollow\">Twitter for Android</a>', 'in_reply_to_user_id': None, 'text': \"RT @EMMAexperts: 'Om de #smartcity te bouwen moeten overheid, burger, stadsmakers, urbanisten en ‘technerds’ elkaar #vertrouwen'. https://t…\", 'id': 809711935180701696, 'entities': {'urls': [], 'user_mentions': [{'id': 17128474, 'name': 'EMMA', 'screen_name': 'EMMAexperts', 'id_str': '17128474', 'indices': [3, 15]}], 'hashtags': [{'indices': [24, 34], 'text': 'smartcity'}, {'indices': [116, 127], 'text': 'vertrouwen'}], 'symbols': []}, 'in_reply_to_screen_name': None, 'favorited': False, 'favorite_count': 0, 'retweeted': True, 'coordinates': None, 'is_quote_status': False, 'retweet_count': 10, 'retweeted_status': {'in_reply_to_status_id': None, 'source': '<a href=\"http://twitter.com\" rel=\"nofollow\">Twitter Web Client</a>', 'in_reply_to_user_id': None, 'text': \"'Om de #smartcity te bouwen moeten overheid, burger, stadsmakers, urbanisten en ‘technerds’ elkaar #vertrouwen'.… https://t.co/ozausjIJVU\", 'possibly_sensitive': False, 'id': 809424286830174208, 'entities': {'urls': [{'indices': [114, 137], 'url': 'https://t.co/ozausjIJVU', 'expanded_url': 'https://twitter.com/i/web/status/809424286830174208', 'display_url': 'twitter.com/i/web/status/8…'}], 'user_mentions': [], 'hashtags': [{'indices': [7, 17], 'text': 'smartcity'}, {'indices': [99, 110], 'text': 'vertrouwen'}], 'symbols': []}, 'in_reply_to_screen_name': None, 'favorited': False, 'favorite_count': 1, 'retweeted': True, 'coordinates': None, 'is_quote_status': False, 'retweet_count': 10, 'created_at': 'Thu Dec 15 15:46:03 +0000 2016', 'contributors': None, 'truncated': True, 'geo': None, 'in_reply_to_user_id_str': None, 'place': None, 'lang': 'nl', 'id_str': '809424286830174208', 'in_reply_to_status_id_str': None}, 'created_at': 'Fri Dec 16 10:49:03 +0000 2016', 'contributors': None, 'truncated': False, 'geo': None, 'in_reply_to_user_id_str': None, 'place': None, 'lang': 'nl', 'id_str': '809711935180701696', 'in_reply_to_status_id_str': None}, 'location': 'Den Haag, Nederland'}, {'profile_background_image_url_https': 'https://pbs.twimg.com/profile_background_images/812803400/ce9c13fcb0b959be8fd7c647a80ece7a.jpeg', 'following': True, 'screen_name': 'EMMAexperts', 'default_profile': False, 'geo_enabled': True, 'has_extended_profile': False, 'profile_background_image_url': 'http://pbs.twimg.com/profile_background_images/812803400/ce9c13fcb0b959be8fd7c647a80ece7a.jpeg', 'name': 'EMMA', 'profile_text_color': '333333', 'default_profile_image': False, 'follow_request_sent': False, 'profile_use_background_image': True, 'followers_count': 1012, 'utc_offset': 7200, 'profile_image_url': 'http://pbs.twimg.com/profile_images/2645112836/60bfd6219d3ae1904218207c0fe86501_normal.png', 'profile_sidebar_border_color': '000000', 'contributors_enabled': False, 'entities': {'url': {'urls': [{'indices': [0, 23], 'url': 'https://t.co/21IAWyb8AZ', 'expanded_url': 'http://www.emma.nl', 'display_url': 'emma.nl'}]}, 'description': {'urls': [{'indices': [105, 128], 'url': 'https://t.co/xneCiTc6IY', 'expanded_url': 'http://bit.ly/29QYajY', 'display_url': 'bit.ly/29QYajY'}, {'indices': [135, 158], 'url': 'https://t.co/kDV3MTbF5R', 'expanded_url': 'http://bit.ly/2gP2IsW', 'display_url': 'bit.ly/2gP2IsW'}]}}, 'notifications': False, 'verified': False, 'is_translator': False, 'statuses_count': 1882, 'friends_count': 1193, 'translator_type': 'none', 'listed_count': 61, 'is_translation_enabled': False, 'profile_sidebar_fill_color': 'DDFFCC', 'profile_background_tile': False, 'created_at': 'Mon Nov 03 10:11:19 +0000 2008', 'profile_image_url_https': 'https://pbs.twimg.com/profile_images/2645112836/60bfd6219d3ae1904218207c0fe86501_normal.png', 'profile_banner_url': 'https://pbs.twimg.com/profile_banners/17128474/1476776679', 'id': 17128474, 'protected': False, 'profile_background_color': 'F9FAEB', 'favourites_count': 37, 'profile_link_color': 'F00827', 'lang': 'nl', 'time_zone': 'Athens', 'url': 'https://t.co/21IAWyb8AZ', 'description': 'Experts in Media en Maatschappij | #netwerksamenleving | #onderzoek | #advies | #content | #kennis | FB: https://t.co/xneCiTc6IY | LI: https://t.co/kDV3MTbF5R', 'id_str': '17128474', 'status': {'in_reply_to_status_id': None, 'source': '<a href=\"http://twitter.com\" rel=\"nofollow\">Twitter Web Client</a>', 'in_reply_to_user_id': None, 'text': 'RT @janrotmans: Maarten Camps, sg EZ, spreekt transitietaal: overheid moet niet bang zijn om te falen en durven te experimenteren  https://…', 'id': 819637948945670144, 'entities': {'urls': [], 'user_mentions': [{'id': 251248123, 'name': 'Jan Rotmans', 'screen_name': 'janrotmans', 'id_str': '251248123', 'indices': [3, 14]}], 'hashtags': [], 'symbols': []}, 'in_reply_to_screen_name': None, 'favorited': False, 'favorite_count': 0, 'retweeted': False, 'coordinates': None, 'is_quote_status': False, 'retweet_count': 32, 'retweeted_status': {'in_reply_to_status_id': None, 'source': '<a href=\"http://twitter.com/download/iphone\" rel=\"nofollow\">Twitter for iPhone</a>', 'in_reply_to_user_id': None, 'text': 'Maarten Camps, sg EZ, spreekt transitietaal: overheid moet niet bang zijn om te falen en durven te experimenteren  https://t.co/8omWys02AX', 'possibly_sensitive': False, 'id': 819620013720109056, 'entities': {'urls': [{'indices': [115, 138], 'url': 'https://t.co/8omWys02AX', 'expanded_url': 'https://www.google.nl/amp/s/www.nrc.nl/nieuws/2017/01/11/de-overheid-moet-niet-bang-zijn-om-te-falen-6161495-a1540801/amp', 'display_url': 'google.nl/amp/s/www.nrc.…'}], 'user_mentions': [], 'hashtags': [], 'symbols': []}, 'in_reply_to_screen_name': None, 'favorited': False, 'favorite_count': 10, 'retweeted': False, 'coordinates': None, 'is_quote_status': False, 'retweet_count': 32, 'created_at': 'Thu Jan 12 19:00:13 +0000 2017', 'contributors': None, 'truncated': False, 'geo': None, 'in_reply_to_user_id_str': None, 'place': None, 'lang': 'nl', 'id_str': '819620013720109056', 'in_reply_to_status_id_str': None}, 'created_at': 'Thu Jan 12 20:11:29 +0000 2017', 'contributors': None, 'truncated': False, 'geo': None, 'in_reply_to_user_id_str': None, 'place': None, 'lang': 'nl', 'id_str': '819637948945670144', 'in_reply_to_status_id_str': None}, 'location': 'Den Haag'}]\n"
     ]
    }
   ],
   "source": [
    "print(twitter.getUserInfo(['kevinwill1991', 'EMMAExperts']))"
   ]
  },
  {
   "cell_type": "code",
   "execution_count": 14,
   "metadata": {},
   "outputs": [
    {
     "name": "stdout",
     "output_type": "stream",
     "text": [
      "897\n"
     ]
    }
   ],
   "source": [
    "print(twitter.getRateLimit('users')['users']['/users/lookup']['remaining'])"
   ]
  },
  {
   "cell_type": "code",
   "execution_count": null,
   "metadata": {},
   "outputs": [],
   "source": [
    ""
   ]
  }
 ],
 "metadata": {
  "kernelspec": {
   "display_name": "Python 2",
   "language": "python",
   "name": "python2"
  },
  "language_info": {
   "codemirror_mode": {
    "name": "ipython",
    "version": 2.0
   },
   "file_extension": ".py",
   "mimetype": "text/x-python",
   "name": "python",
   "nbconvert_exporter": "python",
   "pygments_lexer": "ipython2",
   "version": "2.7.6"
  }
 },
 "nbformat": 4,
 "nbformat_minor": 0
}